{
 "cells": [
  {
   "cell_type": "markdown",
   "id": "93de445c",
   "metadata": {},
   "source": [
    "# Web Scrapping Assignment"
   ]
  },
  {
   "cell_type": "markdown",
   "id": "a905df28",
   "metadata": {},
   "source": [
    "## Completed by :- Prateik Malla"
   ]
  },
  {
   "cell_type": "code",
   "execution_count": null,
   "id": "34b5efc8",
   "metadata": {},
   "outputs": [],
   "source": [
    "# Python script to scrape an article given the url of the article and store the extracted text in a file"
   ]
  },
  {
   "cell_type": "code",
   "execution_count": null,
   "id": "d12f9ad5",
   "metadata": {},
   "outputs": [],
   "source": [
    "import os\n",
    "import requests\n",
    "import re\n",
    "\n"
   ]
  },
  {
   "cell_type": "code",
   "execution_count": null,
   "id": "b25f304f",
   "metadata": {},
   "outputs": [],
   "source": [
    "# Code here - Import BeautifulSoup library\n",
    "\n",
    "from bs4 import BeautifulSoup\n",
    "\n",
    "# Code ends here"
   ]
  },
  {
   "cell_type": "code",
   "execution_count": null,
   "id": "5c2db8d5",
   "metadata": {},
   "outputs": [],
   "source": [
    "# function to get the html source text of the medium article\n",
    "def get_page():\n",
    "\tglobal url"
   ]
  },
  {
   "cell_type": "code",
   "execution_count": null,
   "id": "44606dd5",
   "metadata": {},
   "outputs": [],
   "source": [
    "# Code here - Ask the user to input \"Enter url of a medium article: \" and collect it in url\n",
    "\n",
    "url = input( \"Enter url of a medium article: \")\n",
    "\n",
    "# Code ends here"
   ]
  },
  {
   "cell_type": "code",
   "execution_count": null,
   "id": "8727b0c9",
   "metadata": {},
   "outputs": [],
   "source": [
    "# Code here - Call get method in requests object, pass url and collect it in res\n",
    "\tres = requests.get(\n",
    "\t\t'https://medium.com/@subashgandyer/papa-what-is-a-neural-network-c5e5cc427c7/')\n",
    "\ttxt = res.text\n",
    "\tstatus = res.status_code\n",
    "    print(txt, status)\n",
    "\t# Code ends here"
   ]
  },
  {
   "cell_type": "code",
   "execution_count": null,
   "id": "cb8a605a",
   "metadata": {},
   "outputs": [],
   "source": [
    "res.raise_for_status()\n",
    "\tsoup = BeautifulSoup(res.text, 'html.parser')\n",
    "\treturn soup\n",
    "\n",
    "# function to remove all the html tags and replace some with specific strings\n",
    "def clean(text):\n",
    "    rep = {\"<br>\": \"\\n\", \"<br/>\": \"\\n\", \"<li>\":  \"\\n\"}\n",
    "    rep = dict((re.escape(k), v) for k, v in rep.items()) \n",
    "    pattern = re.compile(\"|\".join(rep.keys()))\n",
    "    text = pattern.sub(lambda m: rep[re.escape(m.group(0))], text)\n",
    "    text = re.sub('\\<(.*?)\\>', '', text)\n",
    "    return text\n",
    "\n",
    "\n",
    "def collect_text(soup):\n",
    "\ttext = f'url: {url}\\n\\n'\n",
    "\tpara_text = soup.find_all('p')\n",
    "\tprint(f\"paragraphs text = \\n {para_text}\")\n",
    "\tfor para in para_text:\n",
    "\t\ttext += f\"{para.text}\\n\\n\"\n",
    "\treturn text\n",
    "\n",
    "# function to save file in the current directory\n",
    "def save_file(text):\n",
    "\tif not os.path.exists('./scraped_articles'):\n",
    "\t\tos.mkdir('./scraped_articles')\n",
    "\tname = url.split(\"/\")[-1]\n",
    "\tprint(name)\n",
    "\tfname = f'scraped_articles/{name}.txt'"
   ]
  },
  {
   "cell_type": "code",
   "execution_count": null,
   "id": "2d20aed9",
   "metadata": {},
   "outputs": [],
   "source": [
    "# Code here - write a file using with (2 lines)\n",
    "\twith open(fname,\"w\") as f:\n",
    "\t\tf.write(text)\n",
    "\n",
    "\t# Code ends here"
   ]
  },
  {
   "cell_type": "code",
   "execution_count": null,
   "id": "5907b0ec",
   "metadata": {},
   "outputs": [],
   "source": [
    "print(f'File saved in directory {fname}')\n",
    "\n",
    "\n",
    "if __name__ == '__main__':\n",
    "\ttext = collect_text(get_page())\n",
    "\tsave_file(text)\n",
    "\t# Instructions to Run this python code\n",
    "\t# Give url as https://medium.com/@subashgandyer/papa-what-is-a-neural-network-c5e5cc427c7"
   ]
  },
  {
   "cell_type": "code",
   "execution_count": null,
   "id": "1f3f0202",
   "metadata": {},
   "outputs": [],
   "source": []
  },
  {
   "cell_type": "code",
   "execution_count": null,
   "id": "cbb2b3c6",
   "metadata": {},
   "outputs": [],
   "source": []
  }
 ],
 "metadata": {
  "kernelspec": {
   "display_name": "Python 3",
   "language": "python",
   "name": "python3"
  },
  "language_info": {
   "codemirror_mode": {
    "name": "ipython",
    "version": 3
   },
   "file_extension": ".py",
   "mimetype": "text/x-python",
   "name": "python",
   "nbconvert_exporter": "python",
   "pygments_lexer": "ipython3",
   "version": "3.8.8"
  }
 },
 "nbformat": 4,
 "nbformat_minor": 5
}
